{
 "cells": [
  {
   "cell_type": "markdown",
   "id": "53cb1f6b",
   "metadata": {},
   "source": [
    "## ADS Assignment -3"
   ]
  },
  {
   "cell_type": "code",
   "execution_count": 1,
   "id": "c0917ad4",
   "metadata": {},
   "outputs": [],
   "source": [
    "# importing necessary libraries\n",
    "import numpy as np\n",
    "import pandas as pd\n",
    "import matplotlib.pyplot as plt\n",
    "import seaborn as sns\n",
    "from sklearn.preprocessing import OneHotEncoder, LabelEncoder\n"
   ]
  },
  {
   "cell_type": "markdown",
   "id": "326fafb8",
   "metadata": {},
   "source": [
    "### 2) Load the dataset into the tool."
   ]
  },
  {
   "cell_type": "code",
   "execution_count": 2,
   "id": "200720b6",
   "metadata": {},
   "outputs": [],
   "source": [
    "data=pd.read_csv('Housing.csv')"
   ]
  },
  {
   "cell_type": "code",
   "execution_count": 3,
   "id": "599758b1",
   "metadata": {},
   "outputs": [
    {
     "data": {
      "text/html": [
       "<div>\n",
       "<style scoped>\n",
       "    .dataframe tbody tr th:only-of-type {\n",
       "        vertical-align: middle;\n",
       "    }\n",
       "\n",
       "    .dataframe tbody tr th {\n",
       "        vertical-align: top;\n",
       "    }\n",
       "\n",
       "    .dataframe thead th {\n",
       "        text-align: right;\n",
       "    }\n",
       "</style>\n",
       "<table border=\"1\" class=\"dataframe\">\n",
       "  <thead>\n",
       "    <tr style=\"text-align: right;\">\n",
       "      <th></th>\n",
       "      <th>price</th>\n",
       "      <th>area</th>\n",
       "      <th>bedrooms</th>\n",
       "      <th>bathrooms</th>\n",
       "      <th>stories</th>\n",
       "      <th>mainroad</th>\n",
       "      <th>guestroom</th>\n",
       "      <th>basement</th>\n",
       "      <th>hotwaterheating</th>\n",
       "      <th>airconditioning</th>\n",
       "      <th>parking</th>\n",
       "      <th>furnishingstatus</th>\n",
       "    </tr>\n",
       "  </thead>\n",
       "  <tbody>\n",
       "    <tr>\n",
       "      <th>0</th>\n",
       "      <td>13300000</td>\n",
       "      <td>7420</td>\n",
       "      <td>4</td>\n",
       "      <td>2</td>\n",
       "      <td>3</td>\n",
       "      <td>yes</td>\n",
       "      <td>no</td>\n",
       "      <td>no</td>\n",
       "      <td>no</td>\n",
       "      <td>yes</td>\n",
       "      <td>2</td>\n",
       "      <td>furnished</td>\n",
       "    </tr>\n",
       "    <tr>\n",
       "      <th>1</th>\n",
       "      <td>12250000</td>\n",
       "      <td>8960</td>\n",
       "      <td>4</td>\n",
       "      <td>4</td>\n",
       "      <td>4</td>\n",
       "      <td>yes</td>\n",
       "      <td>no</td>\n",
       "      <td>no</td>\n",
       "      <td>no</td>\n",
       "      <td>yes</td>\n",
       "      <td>3</td>\n",
       "      <td>furnished</td>\n",
       "    </tr>\n",
       "    <tr>\n",
       "      <th>2</th>\n",
       "      <td>12250000</td>\n",
       "      <td>9960</td>\n",
       "      <td>3</td>\n",
       "      <td>2</td>\n",
       "      <td>2</td>\n",
       "      <td>yes</td>\n",
       "      <td>no</td>\n",
       "      <td>yes</td>\n",
       "      <td>no</td>\n",
       "      <td>no</td>\n",
       "      <td>2</td>\n",
       "      <td>semi-furnished</td>\n",
       "    </tr>\n",
       "    <tr>\n",
       "      <th>3</th>\n",
       "      <td>12215000</td>\n",
       "      <td>7500</td>\n",
       "      <td>4</td>\n",
       "      <td>2</td>\n",
       "      <td>2</td>\n",
       "      <td>yes</td>\n",
       "      <td>no</td>\n",
       "      <td>yes</td>\n",
       "      <td>no</td>\n",
       "      <td>yes</td>\n",
       "      <td>3</td>\n",
       "      <td>furnished</td>\n",
       "    </tr>\n",
       "    <tr>\n",
       "      <th>4</th>\n",
       "      <td>11410000</td>\n",
       "      <td>7420</td>\n",
       "      <td>4</td>\n",
       "      <td>1</td>\n",
       "      <td>2</td>\n",
       "      <td>yes</td>\n",
       "      <td>yes</td>\n",
       "      <td>yes</td>\n",
       "      <td>no</td>\n",
       "      <td>yes</td>\n",
       "      <td>2</td>\n",
       "      <td>furnished</td>\n",
       "    </tr>\n",
       "    <tr>\n",
       "      <th>...</th>\n",
       "      <td>...</td>\n",
       "      <td>...</td>\n",
       "      <td>...</td>\n",
       "      <td>...</td>\n",
       "      <td>...</td>\n",
       "      <td>...</td>\n",
       "      <td>...</td>\n",
       "      <td>...</td>\n",
       "      <td>...</td>\n",
       "      <td>...</td>\n",
       "      <td>...</td>\n",
       "      <td>...</td>\n",
       "    </tr>\n",
       "    <tr>\n",
       "      <th>540</th>\n",
       "      <td>1820000</td>\n",
       "      <td>3000</td>\n",
       "      <td>2</td>\n",
       "      <td>1</td>\n",
       "      <td>1</td>\n",
       "      <td>yes</td>\n",
       "      <td>no</td>\n",
       "      <td>yes</td>\n",
       "      <td>no</td>\n",
       "      <td>no</td>\n",
       "      <td>2</td>\n",
       "      <td>unfurnished</td>\n",
       "    </tr>\n",
       "    <tr>\n",
       "      <th>541</th>\n",
       "      <td>1767150</td>\n",
       "      <td>2400</td>\n",
       "      <td>3</td>\n",
       "      <td>1</td>\n",
       "      <td>1</td>\n",
       "      <td>no</td>\n",
       "      <td>no</td>\n",
       "      <td>no</td>\n",
       "      <td>no</td>\n",
       "      <td>no</td>\n",
       "      <td>0</td>\n",
       "      <td>semi-furnished</td>\n",
       "    </tr>\n",
       "    <tr>\n",
       "      <th>542</th>\n",
       "      <td>1750000</td>\n",
       "      <td>3620</td>\n",
       "      <td>2</td>\n",
       "      <td>1</td>\n",
       "      <td>1</td>\n",
       "      <td>yes</td>\n",
       "      <td>no</td>\n",
       "      <td>no</td>\n",
       "      <td>no</td>\n",
       "      <td>no</td>\n",
       "      <td>0</td>\n",
       "      <td>unfurnished</td>\n",
       "    </tr>\n",
       "    <tr>\n",
       "      <th>543</th>\n",
       "      <td>1750000</td>\n",
       "      <td>2910</td>\n",
       "      <td>3</td>\n",
       "      <td>1</td>\n",
       "      <td>1</td>\n",
       "      <td>no</td>\n",
       "      <td>no</td>\n",
       "      <td>no</td>\n",
       "      <td>no</td>\n",
       "      <td>no</td>\n",
       "      <td>0</td>\n",
       "      <td>furnished</td>\n",
       "    </tr>\n",
       "    <tr>\n",
       "      <th>544</th>\n",
       "      <td>1750000</td>\n",
       "      <td>3850</td>\n",
       "      <td>3</td>\n",
       "      <td>1</td>\n",
       "      <td>2</td>\n",
       "      <td>yes</td>\n",
       "      <td>no</td>\n",
       "      <td>no</td>\n",
       "      <td>no</td>\n",
       "      <td>no</td>\n",
       "      <td>0</td>\n",
       "      <td>unfurnished</td>\n",
       "    </tr>\n",
       "  </tbody>\n",
       "</table>\n",
       "<p>545 rows × 12 columns</p>\n",
       "</div>"
      ],
      "text/plain": [
       "        price  area  bedrooms  bathrooms  stories mainroad guestroom basement  \\\n",
       "0    13300000  7420         4          2        3      yes        no       no   \n",
       "1    12250000  8960         4          4        4      yes        no       no   \n",
       "2    12250000  9960         3          2        2      yes        no      yes   \n",
       "3    12215000  7500         4          2        2      yes        no      yes   \n",
       "4    11410000  7420         4          1        2      yes       yes      yes   \n",
       "..        ...   ...       ...        ...      ...      ...       ...      ...   \n",
       "540   1820000  3000         2          1        1      yes        no      yes   \n",
       "541   1767150  2400         3          1        1       no        no       no   \n",
       "542   1750000  3620         2          1        1      yes        no       no   \n",
       "543   1750000  2910         3          1        1       no        no       no   \n",
       "544   1750000  3850         3          1        2      yes        no       no   \n",
       "\n",
       "    hotwaterheating airconditioning  parking furnishingstatus  \n",
       "0                no             yes        2        furnished  \n",
       "1                no             yes        3        furnished  \n",
       "2                no              no        2   semi-furnished  \n",
       "3                no             yes        3        furnished  \n",
       "4                no             yes        2        furnished  \n",
       "..              ...             ...      ...              ...  \n",
       "540              no              no        2      unfurnished  \n",
       "541              no              no        0   semi-furnished  \n",
       "542              no              no        0      unfurnished  \n",
       "543              no              no        0        furnished  \n",
       "544              no              no        0      unfurnished  \n",
       "\n",
       "[545 rows x 12 columns]"
      ]
     },
     "execution_count": 3,
     "metadata": {},
     "output_type": "execute_result"
    }
   ],
   "source": [
    "data"
   ]
  },
  {
   "cell_type": "markdown",
   "id": "c807c16d",
   "metadata": {},
   "source": [
    "### 3. Perform Below Visualizations.\n",
    " Univariate Analysis\n",
    " Bi-Variate Analysis\n",
    " Multi-Variate Analysis"
   ]
  },
  {
   "cell_type": "code",
   "execution_count": 4,
   "id": "928f96d9",
   "metadata": {},
   "outputs": [
    {
     "data": {
      "image/png": "[encoded data removed]",
      "text/plain": [
       "<Figure size 640x480 with 1 Axes>"
      ]
     },
     "metadata": {},
     "output_type": "display_data"
    }
   ],
   "source": [
    "# Univariate analysis\n",
    "plt.hist(data['area'], bins=20)\n",
    "plt.xlabel('area')\n",
    "plt.ylabel('count')\n",
    "plt.title('Distribution of Area')\n",
    "plt.show()"
   ]
  },
  {
   "cell_type": "code",
   "execution_count": 5,
   "id": "e559ac71",
   "metadata": {},
   "outputs": [
    {
     "data": {
      "image/png": "[encoded data removed]",
      "text/plain": [
       "<Figure size 640x480 with 1 Axes>"
      ]
     },
     "metadata": {},
     "output_type": "display_data"
    }
   ],
   "source": [
    "# Create a bar plot for the 'Bedrooms' variable\n",
    "sns.countplot(data=data, x='bedrooms')\n",
    "plt.title('Bedrooms Distribution')\n",
    "plt.xlabel('Number of Bedrooms')\n",
    "plt.ylabel('Count')\n",
    "plt.show()"
   ]
  },
  {
   "cell_type": "code",
   "execution_count": 6,
   "id": "f375dbf8",
   "metadata": {},
   "outputs": [
    {
     "data": {
      "image/png": "[encoded data removed]",
      "text/plain": [
       "<Figure size 640x480 with 1 Axes>"
      ]
     },
     "metadata": {},
     "output_type": "display_data"
    }
   ],
   "source": [
    "# Bi-Variate Analysis - Number of Bedrooms vs. House Price\n",
    "plt.scatter(data['bedrooms'], data['price'])\n",
    "plt.xlabel('Number of Bedrooms')\n",
    "plt.ylabel('price')\n",
    "plt.title('Number of Bedrooms vs. House Price')\n",
    "plt.show()"
   ]
  },
  {
   "cell_type": "code",
   "execution_count": 7,
   "id": "df4caffc",
   "metadata": {},
   "outputs": [
    {
     "name": "stderr",
     "output_type": "stream",
     "text": [
      "C:\\Users\\ramya\\AppData\\Local\\Temp\\ipykernel_3320\\147526740.py:2: FutureWarning: The default value of numeric_only in DataFrame.corr is deprecated. In a future version, it will default to False. Select only valid columns or specify the value of numeric_only to silence this warning.\n",
      "  correlation_matrix = data.corr()\n"
     ]
    },
    {
     "data": {
      "image/png": "[encoded data removed]",
      "text/plain": [
       "<Figure size 640x480 with 2 Axes>"
      ]
     },
     "metadata": {},
     "output_type": "display_data"
    }
   ],
   "source": [
    "# Multi-Variate Analysis - Correlation Matrix\n",
    "correlation_matrix = data.corr()\n",
    "sns.heatmap(correlation_matrix, annot=True)\n",
    "plt.title('Correlation Matrix')\n",
    "plt.show()\n"
   ]
  },
  {
   "cell_type": "markdown",
   "id": "77f62439",
   "metadata": {},
   "source": [
    "### 4)Perform descriptive statistics on the dataset."
   ]
  },
  {
   "cell_type": "code",
   "execution_count": 8,
   "id": "81cf43f4",
   "metadata": {},
   "outputs": [
    {
     "name": "stdout",
     "output_type": "stream",
     "text": [
      "              price          area    bedrooms   bathrooms     stories  \\\n",
      "count  5.450000e+02    545.000000  545.000000  545.000000  545.000000   \n",
      "mean   4.766729e+06   5150.541284    2.965138    1.286239    1.805505   \n",
      "std    1.870440e+06   2170.141023    0.738064    0.502470    0.867492   \n",
      "min    1.750000e+06   1650.000000    1.000000    1.000000    1.000000   \n",
      "25%    3.430000e+06   3600.000000    2.000000    1.000000    1.000000   \n",
      "50%    4.340000e+06   4600.000000    3.000000    1.000000    2.000000   \n",
      "75%    5.740000e+06   6360.000000    3.000000    2.000000    2.000000   \n",
      "max    1.330000e+07  16200.000000    6.000000    4.000000    4.000000   \n",
      "\n",
      "          parking  \n",
      "count  545.000000  \n",
      "mean     0.693578  \n",
      "std      0.861586  \n",
      "min      0.000000  \n",
      "25%      0.000000  \n",
      "50%      0.000000  \n",
      "75%      1.000000  \n",
      "max      3.000000  \n"
     ]
    }
   ],
   "source": [
    "# Descriptive statistics\n",
    "descriptive_stats = data.describe()\n",
    "print(descriptive_stats)"
   ]
  },
  {
   "cell_type": "markdown",
   "id": "7fcd2f15",
   "metadata": {},
   "source": [
    "### 5) Check for Missing values and deal with them"
   ]
  },
  {
   "cell_type": "code",
   "execution_count": 9,
   "id": "d4fc2d58",
   "metadata": {},
   "outputs": [],
   "source": [
    "# Select only valid columns\n",
    "valid_columns = data.select_dtypes(include=[np.number]).columns\n",
    "\n",
    "# Fill missing values with mean of valid columns\n",
    "data[valid_columns] = data[valid_columns].fillna(data[valid_columns].mean())\n"
   ]
  },
  {
   "cell_type": "code",
   "execution_count": 10,
   "id": "28044fa7",
   "metadata": {},
   "outputs": [
    {
     "name": "stdout",
     "output_type": "stream",
     "text": [
      "<class 'pandas.core.frame.DataFrame'>\n",
      "RangeIndex: 545 entries, 0 to 544\n",
      "Data columns (total 12 columns):\n",
      " #   Column            Non-Null Count  Dtype \n",
      "---  ------            --------------  ----- \n",
      " 0   price             545 non-null    int64 \n",
      " 1   area              545 non-null    int64 \n",
      " 2   bedrooms          545 non-null    int64 \n",
      " 3   bathrooms         545 non-null    int64 \n",
      " 4   stories           545 non-null    int64 \n",
      " 5   mainroad          545 non-null    object\n",
      " 6   guestroom         545 non-null    object\n",
      " 7   basement          545 non-null    object\n",
      " 8   hotwaterheating   545 non-null    object\n",
      " 9   airconditioning   545 non-null    object\n",
      " 10  parking           545 non-null    int64 \n",
      " 11  furnishingstatus  545 non-null    object\n",
      "dtypes: int64(6), object(6)\n",
      "memory usage: 51.2+ KB\n"
     ]
    }
   ],
   "source": [
    "data.info()"
   ]
  },
  {
   "cell_type": "code",
   "execution_count": 11,
   "id": "7d82e352",
   "metadata": {},
   "outputs": [
    {
     "name": "stdout",
     "output_type": "stream",
     "text": [
      "price               0\n",
      "area                0\n",
      "bedrooms            0\n",
      "bathrooms           0\n",
      "stories             0\n",
      "mainroad            0\n",
      "guestroom           0\n",
      "basement            0\n",
      "hotwaterheating     0\n",
      "airconditioning     0\n",
      "parking             0\n",
      "furnishingstatus    0\n",
      "dtype: int64\n"
     ]
    }
   ],
   "source": [
    "# Check for missing values in the dataset\n",
    "missing_values = data.isnull().sum()\n",
    "print(missing_values)"
   ]
  },
  {
   "cell_type": "markdown",
   "id": "493adaf0",
   "metadata": {},
   "source": [
    "### 6) Find the outliers and replace them outliers"
   ]
  },
  {
   "cell_type": "code",
   "execution_count": 12,
   "id": "341ef148",
   "metadata": {},
   "outputs": [],
   "source": [
    "# Find outliers\n",
    "# Choose the numerical columns for outlier detection\n",
    "numerical_columns = ['area', 'bedrooms', 'bathrooms', 'stories', 'parking']\n",
    "\n",
    "# Iterate over each numerical column\n",
    "for column in numerical_columns:\n",
    "    # Calculate the z-score for each value in the column\n",
    "    z_scores = np.abs((data[column] - data[column].mean()) / data[column].std())\n",
    "    \n",
    "    # Set a threshold for identifying outliers (e.g., z-score > 3)\n",
    "    threshold = 3\n",
    "    \n",
    "    # Replace outliers with the median value\n",
    "    data[column]=np.where(z_scores >threshold, data[column].median(),data[column])"
   ]
  },
  {
   "cell_type": "code",
   "execution_count": 13,
   "id": "cd720da6",
   "metadata": {
    "scrolled": true
   },
   "outputs": [
    {
     "data": {
      "text/plain": [
       "<bound method NDFrame.describe of         price    area  bedrooms  bathrooms  stories mainroad guestroom  \\\n",
       "0    13300000  7420.0       4.0        2.0      3.0      yes        no   \n",
       "1    12250000  8960.0       4.0        1.0      4.0      yes        no   \n",
       "2    12250000  9960.0       3.0        2.0      2.0      yes        no   \n",
       "3    12215000  7500.0       4.0        2.0      2.0      yes        no   \n",
       "4    11410000  7420.0       4.0        1.0      2.0      yes       yes   \n",
       "..        ...     ...       ...        ...      ...      ...       ...   \n",
       "540   1820000  3000.0       2.0        1.0      1.0      yes        no   \n",
       "541   1767150  2400.0       3.0        1.0      1.0       no        no   \n",
       "542   1750000  3620.0       2.0        1.0      1.0      yes        no   \n",
       "543   1750000  2910.0       3.0        1.0      1.0       no        no   \n",
       "544   1750000  3850.0       3.0        1.0      2.0      yes        no   \n",
       "\n",
       "    basement hotwaterheating airconditioning  parking furnishingstatus  \n",
       "0         no              no             yes      2.0        furnished  \n",
       "1         no              no             yes      3.0        furnished  \n",
       "2        yes              no              no      2.0   semi-furnished  \n",
       "3        yes              no             yes      3.0        furnished  \n",
       "4        yes              no             yes      2.0        furnished  \n",
       "..       ...             ...             ...      ...              ...  \n",
       "540      yes              no              no      2.0      unfurnished  \n",
       "541       no              no              no      0.0   semi-furnished  \n",
       "542       no              no              no      0.0      unfurnished  \n",
       "543       no              no              no      0.0        furnished  \n",
       "544       no              no              no      0.0      unfurnished  \n",
       "\n",
       "[545 rows x 12 columns]>"
      ]
     },
     "execution_count": 13,
     "metadata": {},
     "output_type": "execute_result"
    }
   ],
   "source": [
    "data.describe"
   ]
  },
  {
   "cell_type": "code",
   "execution_count": 14,
   "id": "f2bac1a5",
   "metadata": {},
   "outputs": [
    {
     "data": {
      "image/png": "[encoded data removed]",
      "text/plain": [
       "<Figure size 1000x600 with 5 Axes>"
      ]
     },
     "metadata": {},
     "output_type": "display_data"
    }
   ],
   "source": [
    "# Create box plots for each numerical column\n",
    "plt.figure(figsize=(10, 6))\n",
    "\n",
    "for col in numerical_columns:\n",
    "    plt.subplot(1, len(numerical_columns), numerical_columns.index(col) + 1)\n",
    "    sns.boxplot(x=data[col])\n",
    "    plt.title(f'Box Plot for {col}')\n",
    "    plt.xlabel(col)\n",
    "    plt.ylabel('Values')\n",
    "\n",
    "plt.tight_layout()\n",
    "plt.show()"
   ]
  },
  {
   "cell_type": "markdown",
   "id": "a809a396",
   "metadata": {},
   "source": [
    "### 7) Check for Categorical columns and perform encoding."
   ]
  },
  {
   "cell_type": "code",
   "execution_count": 15,
   "id": "adc43d13",
   "metadata": {},
   "outputs": [],
   "source": [
    "# Identify categorical columns\n",
    "categorical_cols = ['mainroad', 'guestroom', 'basement', 'hotwaterheating', 'airconditioning', 'furnishingstatus']\n",
    "\n",
    "# Perform one-hot encoding\n",
    "# Create a new DataFrame to store the encoded features\n",
    "encoded_data = pd.get_dummies(data[categorical_cols], drop_first=True)"
   ]
  },
  {
   "cell_type": "code",
   "execution_count": 16,
   "id": "d8dc8c77",
   "metadata": {},
   "outputs": [],
   "source": [
    "# Concatenate the encoded features with the original dataset\n",
    "df_encoded = pd.concat([data, encoded_data], axis=1)"
   ]
  },
  {
   "cell_type": "code",
   "execution_count": 17,
   "id": "bcf521d1",
   "metadata": {},
   "outputs": [],
   "source": [
    "# Drop the original categorical columns\n",
    "df_encoded.drop(categorical_cols, axis=1, inplace=True)"
   ]
  },
  {
   "cell_type": "code",
   "execution_count": 18,
   "id": "4acbf6cf",
   "metadata": {},
   "outputs": [],
   "source": [
    "# Perform label encoding\n",
    "# Create a LabelEncoder object\n",
    "label_encoder = LabelEncoder()"
   ]
  },
  {
   "cell_type": "code",
   "execution_count": 19,
   "id": "bfba3835",
   "metadata": {},
   "outputs": [
    {
     "name": "stdout",
     "output_type": "stream",
     "text": [
      "        price    area  bedrooms  bathrooms  stories  mainroad  guestroom  \\\n",
      "0    13300000  7420.0       4.0        2.0      3.0         1          0   \n",
      "1    12250000  8960.0       4.0        1.0      4.0         1          0   \n",
      "2    12250000  9960.0       3.0        2.0      2.0         1          0   \n",
      "3    12215000  7500.0       4.0        2.0      2.0         1          0   \n",
      "4    11410000  7420.0       4.0        1.0      2.0         1          1   \n",
      "..        ...     ...       ...        ...      ...       ...        ...   \n",
      "540   1820000  3000.0       2.0        1.0      1.0         1          0   \n",
      "541   1767150  2400.0       3.0        1.0      1.0         0          0   \n",
      "542   1750000  3620.0       2.0        1.0      1.0         1          0   \n",
      "543   1750000  2910.0       3.0        1.0      1.0         0          0   \n",
      "544   1750000  3850.0       3.0        1.0      2.0         1          0   \n",
      "\n",
      "     basement  hotwaterheating  airconditioning  parking  furnishingstatus  \n",
      "0           0                0                1      2.0                 0  \n",
      "1           0                0                1      3.0                 0  \n",
      "2           1                0                0      2.0                 1  \n",
      "3           1                0                1      3.0                 0  \n",
      "4           1                0                1      2.0                 0  \n",
      "..        ...              ...              ...      ...               ...  \n",
      "540         1                0                0      2.0                 2  \n",
      "541         0                0                0      0.0                 1  \n",
      "542         0                0                0      0.0                 2  \n",
      "543         0                0                0      0.0                 0  \n",
      "544         0                0                0      0.0                 2  \n",
      "\n",
      "[545 rows x 12 columns]\n"
     ]
    }
   ],
   "source": [
    "# Encode each categorical column\n",
    "for col in categorical_cols:\n",
    "    data[col] = label_encoder.fit_transform(data[col])\n",
    "\n",
    "# Print the updated DataFrame\n",
    "print(data)"
   ]
  },
  {
   "cell_type": "markdown",
   "id": "d64eadeb",
   "metadata": {},
   "source": [
    "### 8) Split the data into dependent and independent variables."
   ]
  },
  {
   "cell_type": "code",
   "execution_count": 20,
   "id": "aad35084",
   "metadata": {},
   "outputs": [],
   "source": [
    "# Split the data into X (features) and y (target variable)\n",
    "X = data.drop('price', axis=1)\n",
    "y = data['price']\n"
   ]
  },
  {
   "cell_type": "code",
   "execution_count": 21,
   "id": "62cfedf2",
   "metadata": {},
   "outputs": [
    {
     "name": "stdout",
     "output_type": "stream",
     "text": [
      "Independent Variables (features):\n",
      "     area  bedrooms  bathrooms  stories  mainroad  guestroom  basement  \\\n",
      "0  7420.0       4.0        2.0      3.0         1          0         0   \n",
      "1  8960.0       4.0        1.0      4.0         1          0         0   \n",
      "2  9960.0       3.0        2.0      2.0         1          0         1   \n",
      "3  7500.0       4.0        2.0      2.0         1          0         1   \n",
      "4  7420.0       4.0        1.0      2.0         1          1         1   \n",
      "\n",
      "   hotwaterheating  airconditioning  parking  furnishingstatus  \n",
      "0                0                1      2.0                 0  \n",
      "1                0                1      3.0                 0  \n",
      "2                0                0      2.0                 1  \n",
      "3                0                1      3.0                 0  \n",
      "4                0                1      2.0                 0  \n"
     ]
    }
   ],
   "source": [
    "# Print the independent variables\n",
    "print('Independent Variables (features):')\n",
    "print(X.head())"
   ]
  },
  {
   "cell_type": "code",
   "execution_count": 22,
   "id": "81213c6d",
   "metadata": {},
   "outputs": [
    {
     "name": "stdout",
     "output_type": "stream",
     "text": [
      "\n",
      "Dependent Variable (target):\n",
      "0    13300000\n",
      "1    12250000\n",
      "2    12250000\n",
      "3    12215000\n",
      "4    11410000\n",
      "Name: price, dtype: int64\n"
     ]
    }
   ],
   "source": [
    "# Print the dependent variable\n",
    "print('\\nDependent Variable (target):')\n",
    "print(y.head())"
   ]
  },
  {
   "cell_type": "markdown",
   "id": "4c009816",
   "metadata": {},
   "source": [
    "### 9) Scale the independent variables"
   ]
  },
  {
   "cell_type": "code",
   "execution_count": 23,
   "id": "1cc887c2",
   "metadata": {},
   "outputs": [
    {
     "name": "stdout",
     "output_type": "stream",
     "text": [
      "       area  bedrooms  bathrooms   stories  mainroad  guestroom  basement  \\\n",
      "0  1.237672  1.464768   1.760041  1.378217  0.405623  -0.465315 -0.734539   \n",
      "1  2.036247  1.464768  -0.568169  2.532024  0.405623  -0.465315 -0.734539   \n",
      "2  2.554802  0.064244   1.760041  0.224410  0.405623  -0.465315  1.361397   \n",
      "3  1.279156  1.464768   1.760041  0.224410  0.405623  -0.465315  1.361397   \n",
      "4  1.237672  1.464768  -0.568169  0.224410  0.405623   2.149083  1.361397   \n",
      "\n",
      "   hotwaterheating  airconditioning   parking  furnishingstatus  \n",
      "0        -0.219265         1.472618  1.517692         -1.406286  \n",
      "1        -0.219265         1.472618  2.679409         -1.406286  \n",
      "2        -0.219265        -0.679063  1.517692         -0.091662  \n",
      "3        -0.219265         1.472618  2.679409         -1.406286  \n",
      "4        -0.219265         1.472618  1.517692         -1.406286  \n"
     ]
    }
   ],
   "source": [
    "from sklearn.preprocessing import StandardScaler\n",
    "\n",
    "# Split into dependent and independent variables\n",
    "X = data.drop('price', axis=1)  # Independent variables (features)\n",
    "y = data['price']  # Dependent variable (target)\n",
    "\n",
    "# Scale the independent variables\n",
    "scaler = StandardScaler()\n",
    "X_scaled = scaler.fit_transform(X)\n",
    "\n",
    "# Create a new DataFrame with the scaled independent variables\n",
    "df_scaled = pd.DataFrame(X_scaled, columns=X.columns)\n",
    "\n",
    "# Print the scaled independent variables\n",
    "print(df_scaled.head())"
   ]
  },
  {
   "cell_type": "markdown",
   "id": "08a30735",
   "metadata": {},
   "source": [
    "### 10) Split the data into training and testing"
   ]
  },
  {
   "cell_type": "code",
   "execution_count": 24,
   "id": "d3698bc7",
   "metadata": {},
   "outputs": [],
   "source": [
    "from sklearn.model_selection import train_test_split\n",
    "X_train,X_test,y_train,y_test = train_test_split(X,y,test_size=0.2,random_state=0)"
   ]
  },
  {
   "cell_type": "code",
   "execution_count": 25,
   "id": "94dcc414",
   "metadata": {},
   "outputs": [
    {
     "data": {
      "text/html": [
       "<div>\n",
       "<style scoped>\n",
       "    .dataframe tbody tr th:only-of-type {\n",
       "        vertical-align: middle;\n",
       "    }\n",
       "\n",
       "    .dataframe tbody tr th {\n",
       "        vertical-align: top;\n",
       "    }\n",
       "\n",
       "    .dataframe thead th {\n",
       "        text-align: right;\n",
       "    }\n",
       "</style>\n",
       "<table border=\"1\" class=\"dataframe\">\n",
       "  <thead>\n",
       "    <tr style=\"text-align: right;\">\n",
       "      <th></th>\n",
       "      <th>area</th>\n",
       "      <th>bedrooms</th>\n",
       "      <th>bathrooms</th>\n",
       "      <th>stories</th>\n",
       "      <th>mainroad</th>\n",
       "      <th>guestroom</th>\n",
       "      <th>basement</th>\n",
       "      <th>hotwaterheating</th>\n",
       "      <th>airconditioning</th>\n",
       "      <th>parking</th>\n",
       "      <th>furnishingstatus</th>\n",
       "    </tr>\n",
       "  </thead>\n",
       "  <tbody>\n",
       "    <tr>\n",
       "      <th>542</th>\n",
       "      <td>3620.0</td>\n",
       "      <td>2.0</td>\n",
       "      <td>1.0</td>\n",
       "      <td>1.0</td>\n",
       "      <td>1</td>\n",
       "      <td>0</td>\n",
       "      <td>0</td>\n",
       "      <td>0</td>\n",
       "      <td>0</td>\n",
       "      <td>0.0</td>\n",
       "      <td>2</td>\n",
       "    </tr>\n",
       "    <tr>\n",
       "      <th>496</th>\n",
       "      <td>4000.0</td>\n",
       "      <td>2.0</td>\n",
       "      <td>1.0</td>\n",
       "      <td>1.0</td>\n",
       "      <td>1</td>\n",
       "      <td>0</td>\n",
       "      <td>0</td>\n",
       "      <td>0</td>\n",
       "      <td>0</td>\n",
       "      <td>0.0</td>\n",
       "      <td>2</td>\n",
       "    </tr>\n",
       "    <tr>\n",
       "      <th>484</th>\n",
       "      <td>3040.0</td>\n",
       "      <td>2.0</td>\n",
       "      <td>1.0</td>\n",
       "      <td>1.0</td>\n",
       "      <td>0</td>\n",
       "      <td>0</td>\n",
       "      <td>0</td>\n",
       "      <td>0</td>\n",
       "      <td>0</td>\n",
       "      <td>0.0</td>\n",
       "      <td>2</td>\n",
       "    </tr>\n",
       "    <tr>\n",
       "      <th>507</th>\n",
       "      <td>3600.0</td>\n",
       "      <td>2.0</td>\n",
       "      <td>1.0</td>\n",
       "      <td>1.0</td>\n",
       "      <td>1</td>\n",
       "      <td>0</td>\n",
       "      <td>0</td>\n",
       "      <td>0</td>\n",
       "      <td>0</td>\n",
       "      <td>0.0</td>\n",
       "      <td>2</td>\n",
       "    </tr>\n",
       "    <tr>\n",
       "      <th>252</th>\n",
       "      <td>9860.0</td>\n",
       "      <td>3.0</td>\n",
       "      <td>1.0</td>\n",
       "      <td>1.0</td>\n",
       "      <td>1</td>\n",
       "      <td>0</td>\n",
       "      <td>0</td>\n",
       "      <td>0</td>\n",
       "      <td>0</td>\n",
       "      <td>0.0</td>\n",
       "      <td>1</td>\n",
       "    </tr>\n",
       "  </tbody>\n",
       "</table>\n",
       "</div>"
      ],
      "text/plain": [
       "       area  bedrooms  bathrooms  stories  mainroad  guestroom  basement  \\\n",
       "542  3620.0       2.0        1.0      1.0         1          0         0   \n",
       "496  4000.0       2.0        1.0      1.0         1          0         0   \n",
       "484  3040.0       2.0        1.0      1.0         0          0         0   \n",
       "507  3600.0       2.0        1.0      1.0         1          0         0   \n",
       "252  9860.0       3.0        1.0      1.0         1          0         0   \n",
       "\n",
       "     hotwaterheating  airconditioning  parking  furnishingstatus  \n",
       "542                0                0      0.0                 2  \n",
       "496                0                0      0.0                 2  \n",
       "484                0                0      0.0                 2  \n",
       "507                0                0      0.0                 2  \n",
       "252                0                0      0.0                 1  "
      ]
     },
     "execution_count": 25,
     "metadata": {},
     "output_type": "execute_result"
    }
   ],
   "source": [
    "X_train.head()"
   ]
  },
  {
   "cell_type": "code",
   "execution_count": 26,
   "id": "927f1690",
   "metadata": {},
   "outputs": [
    {
     "data": {
      "text/html": [
       "<div>\n",
       "<style scoped>\n",
       "    .dataframe tbody tr th:only-of-type {\n",
       "        vertical-align: middle;\n",
       "    }\n",
       "\n",
       "    .dataframe tbody tr th {\n",
       "        vertical-align: top;\n",
       "    }\n",
       "\n",
       "    .dataframe thead th {\n",
       "        text-align: right;\n",
       "    }\n",
       "</style>\n",
       "<table border=\"1\" class=\"dataframe\">\n",
       "  <thead>\n",
       "    <tr style=\"text-align: right;\">\n",
       "      <th></th>\n",
       "      <th>area</th>\n",
       "      <th>bedrooms</th>\n",
       "      <th>bathrooms</th>\n",
       "      <th>stories</th>\n",
       "      <th>mainroad</th>\n",
       "      <th>guestroom</th>\n",
       "      <th>basement</th>\n",
       "      <th>hotwaterheating</th>\n",
       "      <th>airconditioning</th>\n",
       "      <th>parking</th>\n",
       "      <th>furnishingstatus</th>\n",
       "    </tr>\n",
       "  </thead>\n",
       "  <tbody>\n",
       "    <tr>\n",
       "      <th>239</th>\n",
       "      <td>4000.0</td>\n",
       "      <td>3.0</td>\n",
       "      <td>1.0</td>\n",
       "      <td>2.0</td>\n",
       "      <td>1</td>\n",
       "      <td>0</td>\n",
       "      <td>0</td>\n",
       "      <td>0</td>\n",
       "      <td>0</td>\n",
       "      <td>1.0</td>\n",
       "      <td>0</td>\n",
       "    </tr>\n",
       "    <tr>\n",
       "      <th>113</th>\n",
       "      <td>9620.0</td>\n",
       "      <td>3.0</td>\n",
       "      <td>1.0</td>\n",
       "      <td>1.0</td>\n",
       "      <td>1</td>\n",
       "      <td>0</td>\n",
       "      <td>1</td>\n",
       "      <td>0</td>\n",
       "      <td>0</td>\n",
       "      <td>2.0</td>\n",
       "      <td>0</td>\n",
       "    </tr>\n",
       "    <tr>\n",
       "      <th>325</th>\n",
       "      <td>3460.0</td>\n",
       "      <td>4.0</td>\n",
       "      <td>1.0</td>\n",
       "      <td>2.0</td>\n",
       "      <td>1</td>\n",
       "      <td>0</td>\n",
       "      <td>0</td>\n",
       "      <td>0</td>\n",
       "      <td>1</td>\n",
       "      <td>0.0</td>\n",
       "      <td>1</td>\n",
       "    </tr>\n",
       "    <tr>\n",
       "      <th>66</th>\n",
       "      <td>4600.0</td>\n",
       "      <td>2.0</td>\n",
       "      <td>1.0</td>\n",
       "      <td>1.0</td>\n",
       "      <td>1</td>\n",
       "      <td>0</td>\n",
       "      <td>1</td>\n",
       "      <td>1</td>\n",
       "      <td>0</td>\n",
       "      <td>1.0</td>\n",
       "      <td>0</td>\n",
       "    </tr>\n",
       "    <tr>\n",
       "      <th>479</th>\n",
       "      <td>3660.0</td>\n",
       "      <td>4.0</td>\n",
       "      <td>1.0</td>\n",
       "      <td>2.0</td>\n",
       "      <td>0</td>\n",
       "      <td>0</td>\n",
       "      <td>0</td>\n",
       "      <td>0</td>\n",
       "      <td>0</td>\n",
       "      <td>0.0</td>\n",
       "      <td>2</td>\n",
       "    </tr>\n",
       "  </tbody>\n",
       "</table>\n",
       "</div>"
      ],
      "text/plain": [
       "       area  bedrooms  bathrooms  stories  mainroad  guestroom  basement  \\\n",
       "239  4000.0       3.0        1.0      2.0         1          0         0   \n",
       "113  9620.0       3.0        1.0      1.0         1          0         1   \n",
       "325  3460.0       4.0        1.0      2.0         1          0         0   \n",
       "66   4600.0       2.0        1.0      1.0         1          0         1   \n",
       "479  3660.0       4.0        1.0      2.0         0          0         0   \n",
       "\n",
       "     hotwaterheating  airconditioning  parking  furnishingstatus  \n",
       "239                0                0      1.0                 0  \n",
       "113                0                0      2.0                 0  \n",
       "325                0                1      0.0                 1  \n",
       "66                 1                0      1.0                 0  \n",
       "479                0                0      0.0                 2  "
      ]
     },
     "execution_count": 26,
     "metadata": {},
     "output_type": "execute_result"
    }
   ],
   "source": [
    "X_test.head()"
   ]
  },
  {
   "cell_type": "code",
   "execution_count": 27,
   "id": "44b4b2cf",
   "metadata": {},
   "outputs": [
    {
     "data": {
      "text/plain": [
       "239    4585000\n",
       "113    6083000\n",
       "325    4007500\n",
       "66     6930000\n",
       "479    2940000\n",
       "        ...   \n",
       "76     6650000\n",
       "132    5810000\n",
       "311    4123000\n",
       "464    3080000\n",
       "155    5530000\n",
       "Name: price, Length: 109, dtype: int64"
      ]
     },
     "execution_count": 27,
     "metadata": {},
     "output_type": "execute_result"
    }
   ],
   "source": [
    "y_test"
   ]
  },
  {
   "cell_type": "code",
   "execution_count": 28,
   "id": "aa7ae4d1",
   "metadata": {
    "scrolled": true
   },
   "outputs": [
    {
     "data": {
      "text/plain": [
       "542    1750000\n",
       "496    2695000\n",
       "484    2870000\n",
       "507    2590000\n",
       "252    4515000\n",
       "        ...   \n",
       "70     6790000\n",
       "277    4305000\n",
       "9      9800000\n",
       "359    3710000\n",
       "192    5040000\n",
       "Name: price, Length: 436, dtype: int64"
      ]
     },
     "execution_count": 28,
     "metadata": {},
     "output_type": "execute_result"
    }
   ],
   "source": [
    "y_train"
   ]
  },
  {
   "cell_type": "code",
   "execution_count": 29,
   "id": "af2d9ddb",
   "metadata": {},
   "outputs": [
    {
     "name": "stdout",
     "output_type": "stream",
     "text": [
      "Train set shape: (436, 11) (436,)\n",
      "Test set shape: (109, 11) (109,)\n"
     ]
    }
   ],
   "source": [
    "# Print the shape of train and test sets\n",
    "print('Train set shape:', X_train.shape, y_train.shape)\n",
    "print('Test set shape:', X_test.shape, y_test.shape)"
   ]
  },
  {
   "cell_type": "markdown",
   "id": "ec3e504e",
   "metadata": {},
   "source": [
    "### 11) Build the Model"
   ]
  },
  {
   "cell_type": "raw",
   "id": "6f09120c",
   "metadata": {},
   "source": [
    "LINEAR REGRESSION"
   ]
  },
  {
   "cell_type": "code",
   "execution_count": 30,
   "id": "c6bb9bc1",
   "metadata": {},
   "outputs": [],
   "source": [
    "#Model Building\n",
    "from sklearn.linear_model import LinearRegression\n",
    "lr=LinearRegression()"
   ]
  },
  {
   "cell_type": "markdown",
   "id": "b9135618",
   "metadata": {},
   "source": [
    "### 12) Train the Model"
   ]
  },
  {
   "cell_type": "code",
   "execution_count": 31,
   "id": "1ec67e49",
   "metadata": {},
   "outputs": [
    {
     "data": {
      "text/html": [
       "<style>#sk-container-id-1 {color: black;background-color: white;}#sk-container-id-1 pre{padding: 0;}#sk-container-id-1 div.sk-toggleable {background-color: white;}#sk-container-id-1 label.sk-toggleable__label {cursor: pointer;display: block;width: 100%;margin-bottom: 0;padding: 0.3em;box-sizing: border-box;text-align: center;}#sk-container-id-1 label.sk-toggleable__label-arrow:before {content: \"▸\";float: left;margin-right: 0.25em;color: #696969;}#sk-container-id-1 label.sk-toggleable__label-arrow:hover:before {color: black;}#sk-container-id-1 div.sk-estimator:hover label.sk-toggleable__label-arrow:before {color: black;}#sk-container-id-1 div.sk-toggleable__content {max-height: 0;max-width: 0;overflow: hidden;text-align: left;background-color: #f0f8ff;}#sk-container-id-1 div.sk-toggleable__content pre {margin: 0.2em;color: black;border-radius: 0.25em;background-color: #f0f8ff;}#sk-container-id-1 input.sk-toggleable__control:checked~div.sk-toggleable__content {max-height: 200px;max-width: 100%;overflow: auto;}#sk-container-id-1 input.sk-toggleable__control:checked~label.sk-toggleable__label-arrow:before {content: \"▾\";}#sk-container-id-1 div.sk-estimator input.sk-toggleable__control:checked~label.sk-toggleable__label {background-color: #d4ebff;}#sk-container-id-1 div.sk-label input.sk-toggleable__control:checked~label.sk-toggleable__label {background-color: #d4ebff;}#sk-container-id-1 input.sk-hidden--visually {border: 0;clip: rect(1px 1px 1px 1px);clip: rect(1px, 1px, 1px, 1px);height: 1px;margin: -1px;overflow: hidden;padding: 0;position: absolute;width: 1px;}#sk-container-id-1 div.sk-estimator {font-family: monospace;background-color: #f0f8ff;border: 1px dotted black;border-radius: 0.25em;box-sizing: border-box;margin-bottom: 0.5em;}#sk-container-id-1 div.sk-estimator:hover {background-color: #d4ebff;}#sk-container-id-1 div.sk-parallel-item::after {content: \"\";width: 100%;border-bottom: 1px solid gray;flex-grow: 1;}#sk-container-id-1 div.sk-label:hover label.sk-toggleable__label {background-color: #d4ebff;}#sk-container-id-1 div.sk-serial::before {content: \"\";position: absolute;border-left: 1px solid gray;box-sizing: border-box;top: 0;bottom: 0;left: 50%;z-index: 0;}#sk-container-id-1 div.sk-serial {display: flex;flex-direction: column;align-items: center;background-color: white;padding-right: 0.2em;padding-left: 0.2em;position: relative;}#sk-container-id-1 div.sk-item {position: relative;z-index: 1;}#sk-container-id-1 div.sk-parallel {display: flex;align-items: stretch;justify-content: center;background-color: white;position: relative;}#sk-container-id-1 div.sk-item::before, #sk-container-id-1 div.sk-parallel-item::before {content: \"\";position: absolute;border-left: 1px solid gray;box-sizing: border-box;top: 0;bottom: 0;left: 50%;z-index: -1;}#sk-container-id-1 div.sk-parallel-item {display: flex;flex-direction: column;z-index: 1;position: relative;background-color: white;}#sk-container-id-1 div.sk-parallel-item:first-child::after {align-self: flex-end;width: 50%;}#sk-container-id-1 div.sk-parallel-item:last-child::after {align-self: flex-start;width: 50%;}#sk-container-id-1 div.sk-parallel-item:only-child::after {width: 0;}#sk-container-id-1 div.sk-dashed-wrapped {border: 1px dashed gray;margin: 0 0.4em 0.5em 0.4em;box-sizing: border-box;padding-bottom: 0.4em;background-color: white;}#sk-container-id-1 div.sk-label label {font-family: monospace;font-weight: bold;display: inline-block;line-height: 1.2em;}#sk-container-id-1 div.sk-label-container {text-align: center;}#sk-container-id-1 div.sk-container {/* jupyter's `normalize.less` sets `[hidden] { display: none; }` but bootstrap.min.css set `[hidden] { display: none !important; }` so we also need the `!important` here to be able to override the default hidden behavior on the sphinx rendered scikit-learn.org. See: https://github.com/scikit-learn/scikit-learn/issues/21755 */display: inline-block !important;position: relative;}#sk-container-id-1 div.sk-text-repr-fallback {display: none;}</style><div id=\"sk-container-id-1\" class=\"sk-top-container\"><div class=\"sk-text-repr-fallback\"><pre>LinearRegression()</pre><b>In a Jupyter environment, please rerun this cell to show the HTML representation or trust the notebook. <br />On GitHub, the HTML representation is unable to render, please try loading this page with nbviewer.org.</b></div><div class=\"sk-container\" hidden><div class=\"sk-item\"><div class=\"sk-estimator sk-toggleable\"><input class=\"sk-toggleable__control sk-hidden--visually\" id=\"sk-estimator-id-1\" type=\"checkbox\" checked><label for=\"sk-estimator-id-1\" class=\"sk-toggleable__label sk-toggleable__label-arrow\">LinearRegression</label><div class=\"sk-toggleable__content\"><pre>LinearRegression()</pre></div></div></div></div></div>"
      ],
      "text/plain": [
       "LinearRegression()"
      ]
     },
     "execution_count": 31,
     "metadata": {},
     "output_type": "execute_result"
    }
   ],
   "source": [
    "#train the model\n",
    "lr.fit(X_train,y_train)"
   ]
  },
  {
   "cell_type": "markdown",
   "id": "c385aa24",
   "metadata": {},
   "source": [
    "### 13)Test the Model"
   ]
  },
  {
   "cell_type": "code",
   "execution_count": 32,
   "id": "39589521",
   "metadata": {},
   "outputs": [],
   "source": [
    "# Test the model\n",
    "y_pred=lr.predict(X_test)\n"
   ]
  },
  {
   "cell_type": "code",
   "execution_count": 33,
   "id": "2bd823f3",
   "metadata": {},
   "outputs": [
    {
     "data": {
      "text/plain": [
       "array([4222735.36743389, 6131800.6085261 , 4693651.24381131,\n",
       "       5304057.3529988 , 3135007.94459908, 7252210.74468783,\n",
       "       3496308.59403288, 3300128.70501456, 2891549.40710933,\n",
       "       8756358.01981389, 6903276.27347099, 3971286.73685786,\n",
       "       4020425.20939979, 5058106.86703856, 4335150.0912651 ,\n",
       "       2072604.73605892, 4183305.32208407, 3901793.40873434,\n",
       "       3391969.16311649, 4759499.06949301, 6267105.86348629,\n",
       "       6680768.08308763, 4883108.67927183, 2816002.61869275,\n",
       "       5087397.56423343, 5883192.15692349, 5114156.20570361,\n",
       "       5780411.60549123, 3976129.6714394 , 5556211.37680062,\n",
       "       3397727.99828245, 5671903.43892343, 7023017.14923359,\n",
       "       3047469.70072992, 4557502.55777794, 5328075.50778647,\n",
       "       5518032.4165659 , 3898169.5246291 , 2856192.02292806,\n",
       "       4180379.55859496, 8343396.13901304, 5315580.28062956,\n",
       "       6578905.46859092, 3946502.32748023, 3398858.41052001,\n",
       "       6448045.48265365, 4857787.2589812 , 2807833.21361   ,\n",
       "       4436062.63401569, 6279725.76917625, 4226841.37356453,\n",
       "       7653897.68844393, 2719829.95638509, 2995674.53864108,\n",
       "       3856138.38731031, 4586468.16743461, 7356427.55850716,\n",
       "       4433090.74388354, 2921848.64204042, 4824803.93468157,\n",
       "       4205684.29673001, 6508565.10182712, 3255123.39504932,\n",
       "       7365500.68588653, 2596842.901619  , 5349917.33699107,\n",
       "       7057257.98181073, 2631632.23665651, 4140573.27190476,\n",
       "       5312406.60616972, 3879003.03559193, 7430759.88658332,\n",
       "       4723455.26314519, 6076629.72417782, 4309425.30565881,\n",
       "       4040699.04203241, 3329445.17146199, 6345482.45547696,\n",
       "       2702248.47042734, 3039970.07660147, 3879003.03559193,\n",
       "       6453948.81501506, 5434520.60589993, 5762551.00365788,\n",
       "       4181642.11330752, 4453535.43258523, 4701827.51620664,\n",
       "       5320724.05952956, 4175783.13992658, 4707253.21582159,\n",
       "       3547350.84655368, 5709075.89783654, 3177609.7919441 ,\n",
       "       3543318.0524855 , 4058308.90794474, 8148418.85616391,\n",
       "       3114383.79189801, 6681539.32022918, 4636850.09090691,\n",
       "       4822891.35034057, 6999333.26751679, 3565438.7926141 ,\n",
       "       4725969.22492091, 3643589.58907103, 6816021.99539033,\n",
       "       5376039.10621774, 4331624.25976567, 5020755.38952149,\n",
       "       5928095.49170262])"
      ]
     },
     "execution_count": 33,
     "metadata": {},
     "output_type": "execute_result"
    }
   ],
   "source": [
    "y_pred"
   ]
  },
  {
   "cell_type": "code",
   "execution_count": 34,
   "id": "c78b33db",
   "metadata": {},
   "outputs": [
    {
     "data": {
      "text/plain": [
       "239    4585000\n",
       "113    6083000\n",
       "325    4007500\n",
       "66     6930000\n",
       "479    2940000\n",
       "        ...   \n",
       "76     6650000\n",
       "132    5810000\n",
       "311    4123000\n",
       "464    3080000\n",
       "155    5530000\n",
       "Name: price, Length: 109, dtype: int64"
      ]
     },
     "execution_count": 34,
     "metadata": {},
     "output_type": "execute_result"
    }
   ],
   "source": [
    "y_test"
   ]
  },
  {
   "cell_type": "code",
   "execution_count": 35,
   "id": "1c623ff3",
   "metadata": {},
   "outputs": [
    {
     "data": {
      "text/plain": [
       "239    3.622646e+05\n",
       "113   -4.880061e+04\n",
       "325   -6.861512e+05\n",
       "66     1.625943e+06\n",
       "479   -1.950079e+05\n",
       "           ...     \n",
       "76    -1.660220e+05\n",
       "132    4.339609e+05\n",
       "311   -2.086243e+05\n",
       "464   -1.940755e+06\n",
       "155   -3.980955e+05\n",
       "Name: price, Length: 109, dtype: float64"
      ]
     },
     "execution_count": 35,
     "metadata": {},
     "output_type": "execute_result"
    }
   ],
   "source": [
    "E=y_test-y_pred\n",
    "E"
   ]
  },
  {
   "cell_type": "markdown",
   "id": "dcf55d5b",
   "metadata": {},
   "source": [
    "### 14) Measure the performance using Metrics."
   ]
  },
  {
   "cell_type": "code",
   "execution_count": 36,
   "id": "d9d3207d",
   "metadata": {},
   "outputs": [
    {
     "data": {
      "text/plain": [
       "0.44725144558418906"
      ]
     },
     "execution_count": 36,
     "metadata": {},
     "output_type": "execute_result"
    }
   ],
   "source": [
    "from sklearn.metrics import r2_score\n",
    "acc=r2_score(y_pred,y_test)\n",
    "acc"
   ]
  },
  {
   "cell_type": "code",
   "execution_count": 37,
   "id": "3f6aba27",
   "metadata": {},
   "outputs": [
    {
     "name": "stderr",
     "output_type": "stream",
     "text": [
      "C:\\Users\\ramya\\anaconda3\\lib\\site-packages\\sklearn\\base.py:420: UserWarning: X does not have valid feature names, but LinearRegression was fitted with feature names\n",
      "  warnings.warn(\n"
     ]
    },
    {
     "data": {
      "text/plain": [
       "array([8148418.85616391])"
      ]
     },
     "execution_count": 37,
     "metadata": {},
     "output_type": "execute_result"
    }
   ],
   "source": [
    "#Predict with random Values\n",
    "y_pr=lr.predict([[8960.0,4.0,1.0,4.0,1,0,0,0,1,3.0,0]])\n",
    "y_pr"
   ]
  },
  {
   "cell_type": "code",
   "execution_count": 38,
   "id": "7acaeec6",
   "metadata": {},
   "outputs": [
    {
     "name": "stdout",
     "output_type": "stream",
     "text": [
      "Mean Absolute Error (MAE): 795547.6632674544\n",
      "Mean Squared Error (MSE): 1167967789463.866\n",
      "Root Mean Squared Error (RMSE): 1080725.5847179089\n",
      "R-squared (R2): 0.5946692956515485\n"
     ]
    }
   ],
   "source": [
    "from sklearn.metrics import mean_absolute_error, mean_squared_error, r2_score\n",
    "\n",
    "# Calculate evaluation metrics\n",
    "mae = mean_absolute_error(y_test, y_pred)\n",
    "mse = mean_squared_error(y_test, y_pred)\n",
    "rmse = np.sqrt(mse)\n",
    "r2 = r2_score(y_test, y_pred)\n",
    "\n",
    "print(\"Mean Absolute Error (MAE):\", mae)\n",
    "print(\"Mean Squared Error (MSE):\", mse)\n",
    "print(\"Root Mean Squared Error (RMSE):\", rmse)\n",
    "print(\"R-squared (R2):\", r2)\n"
   ]
  },
  {
   "cell_type": "markdown",
   "id": "18452356",
   "metadata": {},
   "source": [
    "### Random Forest"
   ]
  },
  {
   "cell_type": "code",
   "execution_count": 39,
   "id": "1e1d5482",
   "metadata": {},
   "outputs": [],
   "source": [
    "from sklearn.ensemble import RandomForestClassifier\n",
    "rf=RandomForestClassifier(n_estimators=10,criterion='entropy',random_state=0)"
   ]
  },
  {
   "cell_type": "code",
   "execution_count": 40,
   "id": "0f66978b",
   "metadata": {},
   "outputs": [
    {
     "data": {
      "text/html": [
       "<style>#sk-container-id-2 {color: black;background-color: white;}#sk-container-id-2 pre{padding: 0;}#sk-container-id-2 div.sk-toggleable {background-color: white;}#sk-container-id-2 label.sk-toggleable__label {cursor: pointer;display: block;width: 100%;margin-bottom: 0;padding: 0.3em;box-sizing: border-box;text-align: center;}#sk-container-id-2 label.sk-toggleable__label-arrow:before {content: \"▸\";float: left;margin-right: 0.25em;color: #696969;}#sk-container-id-2 label.sk-toggleable__label-arrow:hover:before {color: black;}#sk-container-id-2 div.sk-estimator:hover label.sk-toggleable__label-arrow:before {color: black;}#sk-container-id-2 div.sk-toggleable__content {max-height: 0;max-width: 0;overflow: hidden;text-align: left;background-color: #f0f8ff;}#sk-container-id-2 div.sk-toggleable__content pre {margin: 0.2em;color: black;border-radius: 0.25em;background-color: #f0f8ff;}#sk-container-id-2 input.sk-toggleable__control:checked~div.sk-toggleable__content {max-height: 200px;max-width: 100%;overflow: auto;}#sk-container-id-2 input.sk-toggleable__control:checked~label.sk-toggleable__label-arrow:before {content: \"▾\";}#sk-container-id-2 div.sk-estimator input.sk-toggleable__control:checked~label.sk-toggleable__label {background-color: #d4ebff;}#sk-container-id-2 div.sk-label input.sk-toggleable__control:checked~label.sk-toggleable__label {background-color: #d4ebff;}#sk-container-id-2 input.sk-hidden--visually {border: 0;clip: rect(1px 1px 1px 1px);clip: rect(1px, 1px, 1px, 1px);height: 1px;margin: -1px;overflow: hidden;padding: 0;position: absolute;width: 1px;}#sk-container-id-2 div.sk-estimator {font-family: monospace;background-color: #f0f8ff;border: 1px dotted black;border-radius: 0.25em;box-sizing: border-box;margin-bottom: 0.5em;}#sk-container-id-2 div.sk-estimator:hover {background-color: #d4ebff;}#sk-container-id-2 div.sk-parallel-item::after {content: \"\";width: 100%;border-bottom: 1px solid gray;flex-grow: 1;}#sk-container-id-2 div.sk-label:hover label.sk-toggleable__label {background-color: #d4ebff;}#sk-container-id-2 div.sk-serial::before {content: \"\";position: absolute;border-left: 1px solid gray;box-sizing: border-box;top: 0;bottom: 0;left: 50%;z-index: 0;}#sk-container-id-2 div.sk-serial {display: flex;flex-direction: column;align-items: center;background-color: white;padding-right: 0.2em;padding-left: 0.2em;position: relative;}#sk-container-id-2 div.sk-item {position: relative;z-index: 1;}#sk-container-id-2 div.sk-parallel {display: flex;align-items: stretch;justify-content: center;background-color: white;position: relative;}#sk-container-id-2 div.sk-item::before, #sk-container-id-2 div.sk-parallel-item::before {content: \"\";position: absolute;border-left: 1px solid gray;box-sizing: border-box;top: 0;bottom: 0;left: 50%;z-index: -1;}#sk-container-id-2 div.sk-parallel-item {display: flex;flex-direction: column;z-index: 1;position: relative;background-color: white;}#sk-container-id-2 div.sk-parallel-item:first-child::after {align-self: flex-end;width: 50%;}#sk-container-id-2 div.sk-parallel-item:last-child::after {align-self: flex-start;width: 50%;}#sk-container-id-2 div.sk-parallel-item:only-child::after {width: 0;}#sk-container-id-2 div.sk-dashed-wrapped {border: 1px dashed gray;margin: 0 0.4em 0.5em 0.4em;box-sizing: border-box;padding-bottom: 0.4em;background-color: white;}#sk-container-id-2 div.sk-label label {font-family: monospace;font-weight: bold;display: inline-block;line-height: 1.2em;}#sk-container-id-2 div.sk-label-container {text-align: center;}#sk-container-id-2 div.sk-container {/* jupyter's `normalize.less` sets `[hidden] { display: none; }` but bootstrap.min.css set `[hidden] { display: none !important; }` so we also need the `!important` here to be able to override the default hidden behavior on the sphinx rendered scikit-learn.org. See: https://github.com/scikit-learn/scikit-learn/issues/21755 */display: inline-block !important;position: relative;}#sk-container-id-2 div.sk-text-repr-fallback {display: none;}</style><div id=\"sk-container-id-2\" class=\"sk-top-container\"><div class=\"sk-text-repr-fallback\"><pre>RandomForestClassifier(criterion=&#x27;entropy&#x27;, n_estimators=10, random_state=0)</pre><b>In a Jupyter environment, please rerun this cell to show the HTML representation or trust the notebook. <br />On GitHub, the HTML representation is unable to render, please try loading this page with nbviewer.org.</b></div><div class=\"sk-container\" hidden><div class=\"sk-item\"><div class=\"sk-estimator sk-toggleable\"><input class=\"sk-toggleable__control sk-hidden--visually\" id=\"sk-estimator-id-2\" type=\"checkbox\" checked><label for=\"sk-estimator-id-2\" class=\"sk-toggleable__label sk-toggleable__label-arrow\">RandomForestClassifier</label><div class=\"sk-toggleable__content\"><pre>RandomForestClassifier(criterion=&#x27;entropy&#x27;, n_estimators=10, random_state=0)</pre></div></div></div></div></div>"
      ],
      "text/plain": [
       "RandomForestClassifier(criterion='entropy', n_estimators=10, random_state=0)"
      ]
     },
     "execution_count": 40,
     "metadata": {},
     "output_type": "execute_result"
    }
   ],
   "source": [
    "#training the model\n",
    "rf.fit(X_train,y_train)"
   ]
  },
  {
   "cell_type": "code",
   "execution_count": 41,
   "id": "b4e20263",
   "metadata": {},
   "outputs": [],
   "source": [
    "#test the model\n",
    "pred=rf.predict(X_test)"
   ]
  },
  {
   "cell_type": "code",
   "execution_count": 42,
   "id": "4a6f3aa6",
   "metadata": {},
   "outputs": [
    {
     "data": {
      "text/plain": [
       "array([4480000, 4193000, 4900000, 4900000, 2660000, 6650000, 4165000,\n",
       "       2835000, 2100000, 7035000, 5250000, 2800000, 4515000, 5040000,\n",
       "       5243000, 2520000, 3780000, 4060000, 3640000, 5250000, 3920000,\n",
       "       6020000, 5740000, 2100000, 6510000, 6790000, 4193000, 3990000,\n",
       "       4515000, 7875000, 3150000, 5810000, 9870000, 2100000, 3640000,\n",
       "       4830000, 3570000, 3920000, 3675000, 4200000, 8080940, 2940000,\n",
       "       5775000, 2870000, 3710000, 6650000, 2653000, 3423000, 4480000,\n",
       "       5740000, 4403000, 5652500, 3640000, 3710000, 4830000, 4200000,\n",
       "       6650000, 4403000, 3710000, 6510000, 6790000, 3920000, 4200000,\n",
       "       7070000, 3220000, 2590000, 6300000, 2590000, 4235000, 4830000,\n",
       "       3850000, 7210000, 4550000, 6083000, 4445000, 2961000, 2660000,\n",
       "       3500000, 3353000, 3710000, 3850000, 5523000, 4893000, 4935000,\n",
       "       3780000, 3010000, 4095000, 5425000, 5110000, 6475000, 4900000,\n",
       "       4193000, 3675000, 3150000, 2100000, 7560000, 3640000, 5250000,\n",
       "       3500000, 3500000, 5950000, 4340000, 3885000, 2450000, 6650000,\n",
       "       4690000, 2940000, 4403000, 6195000], dtype=int64)"
      ]
     },
     "execution_count": 42,
     "metadata": {},
     "output_type": "execute_result"
    }
   ],
   "source": [
    "pred"
   ]
  },
  {
   "cell_type": "code",
   "execution_count": 43,
   "id": "5bf84acd",
   "metadata": {},
   "outputs": [
    {
     "data": {
      "text/plain": [
       "239    4585000\n",
       "113    6083000\n",
       "325    4007500\n",
       "66     6930000\n",
       "479    2940000\n",
       "        ...   \n",
       "76     6650000\n",
       "132    5810000\n",
       "311    4123000\n",
       "464    3080000\n",
       "155    5530000\n",
       "Name: price, Length: 109, dtype: int64"
      ]
     },
     "execution_count": 43,
     "metadata": {},
     "output_type": "execute_result"
    }
   ],
   "source": [
    "y_test"
   ]
  },
  {
   "cell_type": "code",
   "execution_count": 44,
   "id": "d5fac02b",
   "metadata": {},
   "outputs": [],
   "source": [
    "# Evaluate the model\n",
    "from sklearn.metrics import accuracy_score,confusion_matrix,classification_report"
   ]
  },
  {
   "cell_type": "code",
   "execution_count": 45,
   "id": "9c1b197e",
   "metadata": {},
   "outputs": [],
   "source": [
    "accuracy=accuracy_score(y_test,pred)\n",
    "conmat=confusion_matrix(y_test,pred)"
   ]
  },
  {
   "cell_type": "code",
   "execution_count": 46,
   "id": "4fd4bd3e",
   "metadata": {},
   "outputs": [
    {
     "name": "stdout",
     "output_type": "stream",
     "text": [
      "0.009174311926605505\n"
     ]
    }
   ],
   "source": [
    "print(accuracy)"
   ]
  },
  {
   "cell_type": "code",
   "execution_count": 47,
   "id": "af031bde",
   "metadata": {},
   "outputs": [
    {
     "name": "stdout",
     "output_type": "stream",
     "text": [
      "[[0 0 0 ... 0 0 0]\n",
      " [0 0 0 ... 0 0 0]\n",
      " [0 0 0 ... 0 0 0]\n",
      " ...\n",
      " [0 0 0 ... 0 0 0]\n",
      " [0 0 0 ... 0 0 0]\n",
      " [0 0 0 ... 0 0 0]]\n"
     ]
    }
   ],
   "source": [
    "print(conmat)"
   ]
  },
  {
   "cell_type": "code",
   "execution_count": 48,
   "id": "325b5470",
   "metadata": {},
   "outputs": [
    {
     "name": "stdout",
     "output_type": "stream",
     "text": [
      "              precision    recall  f1-score   support\n",
      "\n",
      "     1750000       0.00      0.00      0.00         1\n",
      "     1890000       0.00      0.00      0.00         1\n",
      "     1960000       0.00      0.00      0.00         1\n",
      "     2100000       0.00      0.00      0.00         0\n",
      "     2380000       0.00      0.00      0.00         1\n",
      "     2450000       0.00      0.00      0.00         0\n",
      "     2520000       0.00      0.00      0.00         0\n",
      "     2590000       0.00      0.00      0.00         0\n",
      "     2653000       0.00      0.00      0.00         0\n",
      "     2660000       0.00      0.00      0.00         1\n",
      "     2800000       0.00      0.00      0.00         0\n",
      "     2835000       0.00      0.00      0.00         1\n",
      "     2870000       0.00      0.00      0.00         0\n",
      "     2940000       0.00      0.00      0.00         2\n",
      "     2961000       0.00      0.00      0.00         0\n",
      "     3010000       0.00      0.00      0.00         0\n",
      "     3080000       0.00      0.00      0.00         2\n",
      "     3129000       0.00      0.00      0.00         1\n",
      "     3150000       0.00      0.00      0.00         3\n",
      "     3220000       0.00      0.00      0.00         0\n",
      "     3290000       0.00      0.00      0.00         5\n",
      "     3325000       0.00      0.00      0.00         1\n",
      "     3332000       0.00      0.00      0.00         1\n",
      "     3353000       0.00      0.00      0.00         0\n",
      "     3360000       0.00      0.00      0.00         1\n",
      "     3395000       0.00      0.00      0.00         1\n",
      "     3423000       0.00      0.00      0.00         0\n",
      "     3500000       0.00      0.00      0.00         5\n",
      "     3535000       0.00      0.00      0.00         1\n",
      "     3570000       0.00      0.00      0.00         1\n",
      "     3605000       0.00      0.00      0.00         1\n",
      "     3633000       0.00      0.00      0.00         1\n",
      "     3640000       0.00      0.00      0.00         1\n",
      "     3675000       0.00      0.00      0.00         0\n",
      "     3703000       0.00      0.00      0.00         1\n",
      "     3710000       0.00      0.00      0.00         1\n",
      "     3780000       0.00      0.00      0.00         3\n",
      "     3815000       0.00      0.00      0.00         1\n",
      "     3850000       0.00      0.00      0.00         2\n",
      "     3885000       0.00      0.00      0.00         1\n",
      "     3920000       0.00      0.00      0.00         1\n",
      "     3990000       0.00      0.00      0.00         1\n",
      "     4007500       0.00      0.00      0.00         1\n",
      "     4060000       0.00      0.00      0.00         1\n",
      "     4095000       0.00      0.00      0.00         0\n",
      "     4098500       0.00      0.00      0.00         1\n",
      "     4123000       0.00      0.00      0.00         1\n",
      "     4130000       0.00      0.00      0.00         1\n",
      "     4165000       0.00      0.00      0.00         2\n",
      "     4193000       0.00      0.00      0.00         0\n",
      "     4200000       0.00      0.00      0.00         2\n",
      "     4235000       0.00      0.00      0.00         0\n",
      "     4270000       0.00      0.00      0.00         3\n",
      "     4305000       0.00      0.00      0.00         1\n",
      "     4340000       0.00      0.00      0.00         1\n",
      "     4403000       0.00      0.00      0.00         0\n",
      "     4410000       0.00      0.00      0.00         1\n",
      "     4445000       0.00      0.00      0.00         0\n",
      "     4480000       0.00      0.00      0.00         0\n",
      "     4515000       0.00      0.00      0.00         0\n",
      "     4550000       0.00      0.00      0.00         0\n",
      "     4585000       0.00      0.00      0.00         1\n",
      "     4613000       0.00      0.00      0.00         1\n",
      "     4620000       0.00      0.00      0.00         3\n",
      "     4690000       0.00      0.00      0.00         1\n",
      "     4753000       0.00      0.00      0.00         1\n",
      "     4795000       0.00      0.00      0.00         1\n",
      "     4830000       0.00      0.00      0.00         0\n",
      "     4893000       0.00      0.00      0.00         0\n",
      "     4900000       0.00      0.00      0.00         3\n",
      "     4935000       0.00      0.00      0.00         0\n",
      "     4970000       0.00      0.00      0.00         1\n",
      "     5005000       0.00      0.00      0.00         1\n",
      "     5040000       0.00      0.00      0.00         0\n",
      "     5075000       0.00      0.00      0.00         1\n",
      "     5110000       0.00      0.00      0.00         1\n",
      "     5243000       0.00      0.00      0.00         0\n",
      "     5250000       0.00      0.00      0.00         1\n",
      "     5383000       0.00      0.00      0.00         1\n",
      "     5425000       0.00      0.00      0.00         0\n",
      "     5460000       0.00      0.00      0.00         2\n",
      "     5495000       0.00      0.00      0.00         1\n",
      "     5523000       0.00      0.00      0.00         0\n",
      "     5530000       0.00      0.00      0.00         2\n",
      "     5600000       0.00      0.00      0.00         1\n",
      "     5652500       0.00      0.00      0.00         0\n",
      "     5740000       0.00      0.00      0.00         2\n",
      "     5775000       0.00      0.00      0.00         0\n",
      "     5803000       0.00      0.00      0.00         1\n",
      "     5810000       0.00      0.00      0.00         1\n",
      "     5950000       0.00      0.00      0.00         1\n",
      "     6020000       0.00      0.00      0.00         0\n",
      "     6083000       0.00      0.00      0.00         1\n",
      "     6107500       0.00      0.00      0.00         1\n",
      "     6125000       0.00      0.00      0.00         1\n",
      "     6195000       0.00      0.00      0.00         2\n",
      "     6300000       0.00      0.00      0.00         1\n",
      "     6440000       0.00      0.00      0.00         2\n",
      "     6475000       0.00      0.00      0.00         0\n",
      "     6510000       0.00      0.00      0.00         1\n",
      "     6650000       0.25      0.33      0.29         3\n",
      "     6755000       0.00      0.00      0.00         1\n",
      "     6790000       0.00      0.00      0.00         0\n",
      "     6930000       0.00      0.00      0.00         1\n",
      "     7035000       0.00      0.00      0.00         0\n",
      "     7070000       0.00      0.00      0.00         0\n",
      "     7210000       0.00      0.00      0.00         0\n",
      "     7525000       0.00      0.00      0.00         1\n",
      "     7560000       0.00      0.00      0.00         1\n",
      "     7875000       0.00      0.00      0.00         0\n",
      "     7980000       0.00      0.00      0.00         1\n",
      "     8080940       0.00      0.00      0.00         0\n",
      "     8680000       0.00      0.00      0.00         1\n",
      "     8960000       0.00      0.00      0.00         1\n",
      "     9100000       0.00      0.00      0.00         1\n",
      "     9310000       0.00      0.00      0.00         1\n",
      "     9870000       0.00      0.00      0.00         0\n",
      "    12250000       0.00      0.00      0.00         1\n",
      "\n",
      "    accuracy                           0.01       109\n",
      "   macro avg       0.00      0.00      0.00       109\n",
      "weighted avg       0.01      0.01      0.01       109\n",
      "\n"
     ]
    },
    {
     "name": "stderr",
     "output_type": "stream",
     "text": [
      "C:\\Users\\ramya\\anaconda3\\lib\\site-packages\\sklearn\\metrics\\_classification.py:1344: UndefinedMetricWarning: Precision and F-score are ill-defined and being set to 0.0 in labels with no predicted samples. Use `zero_division` parameter to control this behavior.\n",
      "  _warn_prf(average, modifier, msg_start, len(result))\n",
      "C:\\Users\\ramya\\anaconda3\\lib\\site-packages\\sklearn\\metrics\\_classification.py:1344: UndefinedMetricWarning: Recall and F-score are ill-defined and being set to 0.0 in labels with no true samples. Use `zero_division` parameter to control this behavior.\n",
      "  _warn_prf(average, modifier, msg_start, len(result))\n",
      "C:\\Users\\ramya\\anaconda3\\lib\\site-packages\\sklearn\\metrics\\_classification.py:1344: UndefinedMetricWarning: Precision and F-score are ill-defined and being set to 0.0 in labels with no predicted samples. Use `zero_division` parameter to control this behavior.\n",
      "  _warn_prf(average, modifier, msg_start, len(result))\n",
      "C:\\Users\\ramya\\anaconda3\\lib\\site-packages\\sklearn\\metrics\\_classification.py:1344: UndefinedMetricWarning: Recall and F-score are ill-defined and being set to 0.0 in labels with no true samples. Use `zero_division` parameter to control this behavior.\n",
      "  _warn_prf(average, modifier, msg_start, len(result))\n",
      "C:\\Users\\ramya\\anaconda3\\lib\\site-packages\\sklearn\\metrics\\_classification.py:1344: UndefinedMetricWarning: Precision and F-score are ill-defined and being set to 0.0 in labels with no predicted samples. Use `zero_division` parameter to control this behavior.\n",
      "  _warn_prf(average, modifier, msg_start, len(result))\n",
      "C:\\Users\\ramya\\anaconda3\\lib\\site-packages\\sklearn\\metrics\\_classification.py:1344: UndefinedMetricWarning: Recall and F-score are ill-defined and being set to 0.0 in labels with no true samples. Use `zero_division` parameter to control this behavior.\n",
      "  _warn_prf(average, modifier, msg_start, len(result))\n"
     ]
    }
   ],
   "source": [
    "print(classification_report(y_test,pred))"
   ]
  },
  {
   "cell_type": "code",
   "execution_count": 49,
   "id": "dc1c3592",
   "metadata": {},
   "outputs": [
    {
     "name": "stdout",
     "output_type": "stream",
     "text": [
      "Mean Squared Error (MSE): 2166039756730.2751\n",
      "Root Mean Squared Error (RMSE): 1471747.1782647572\n",
      "Mean Absolute Error (MAE): 1068596.880733945\n",
      "R-squared (R²) Score: 0.24829911564149942\n"
     ]
    }
   ],
   "source": [
    "mse = mean_squared_error(y_test,pred)\n",
    "rmse = np.sqrt(mse)\n",
    "mae = mean_absolute_error(y_test,pred)\n",
    "r2 = r2_score(y_test,pred)\n",
    "\n",
    "print(\"Mean Squared Error (MSE):\", mse)\n",
    "print(\"Root Mean Squared Error (RMSE):\", rmse)\n",
    "print(\"Mean Absolute Error (MAE):\", mae)\n",
    "print(\"R-squared (R²) Score:\", r2)"
   ]
  },
  {
   "cell_type": "code",
   "execution_count": null,
   "id": "7d18adf7",
   "metadata": {},
   "outputs": [],
   "source": [
    "# Conclusion: Classification Algorithms can't be applied since the target column is not catagorical, Better we can go with Regression Models\n",
    "\n",
    "# While comparing with other Models, 'Linear Regression Model' gives better accuracy\n"
   ]
  }
 ],
 "metadata": {
  "kernelspec": {
   "display_name": "Python 3 (ipykernel)",
   "language": "python",
   "name": "python3"
  },
  "language_info": {
   "codemirror_mode": {
    "name": "ipython",
    "version": 3
   },
   "file_extension": ".py",
   "mimetype": "text/x-python",
   "name": "python",
   "nbconvert_exporter": "python",
   "pygments_lexer": "ipython3",
   "version": "3.10.9"
  }
 },
 "nbformat": 4,
 "nbformat_minor": 5
}
